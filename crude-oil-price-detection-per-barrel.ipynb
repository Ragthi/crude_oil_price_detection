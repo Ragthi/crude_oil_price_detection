{
 "cells": [
  {
   "cell_type": "code",
   "execution_count": 62,
   "id": "b5e08dc7",
   "metadata": {},
   "outputs": [],
   "source": [
    "# Import all libraries\n",
    "import pandas as pd\n",
    "import numpy as np\n",
    "import matplotlib.pyplot as mp\n",
    "import sklearn as sk\n",
    "import glob\n",
    "import pickle\n",
    "data_dict = {\"DCOILBRENTEU_CH1\":\"Change from year ago dollars per barrel\",  \n",
    "             \"DCOILBRENTEU_CHG\":\"Change dollars per barrel\",\n",
    "             \"DCOILBRENTEU_PCA\":\"Compound annual rate of change\",\n",
    "             \"DCOILBRENTEU_CCA\":\"Continuously Compounded annual rate of change\",\n",
    "             \"DCOILBRENTEU_CCH\":\"Continuously Coumpounded rate of change\",\n",
    "             \"DCOILBRENTEU\"    :\"Dollars per barrel\",\n",
    "             \"DCOILBRENTEU_NBD19870520\":\"Index\",\n",
    "             \"DCOILBRENTEU_PC1\":\"percent Change from a year ago\",\n",
    "             \"DCOILBRENTEU_PCH\":\"percent change\"}"
   ]
  },
  {
   "cell_type": "code",
   "execution_count": 2,
   "id": "146e8bc9",
   "metadata": {},
   "outputs": [],
   "source": [
    "# get data file names\n",
    "def merge_data_datetime(path, reg_exp):\n",
    "    \n",
    "    filenames = glob.glob(path + \"/\"+ reg_exp+ \".csv\")\n",
    "\n",
    "    dfs = []\n",
    "    for filename in filenames:\n",
    "        dfs.append(pd.read_csv(filename))\n",
    "\n",
    "    big_frame = dfs[0]\n",
    "    big_frame.set_index(pd.to_datetime(big_frame['DATE']), inplace=True)\n",
    "\n",
    "    for  i in dfs:\n",
    "        i.set_index(pd.to_datetime(i['DATE']), inplace=True)\n",
    "        i.drop('DATE', axis=1, inplace=True)\n",
    "\n",
    "    del(dfs[0])\n",
    "    # Concatenate all data into one DataFrame\n",
    "    for i in dfs:\n",
    "        big_frame = pd.concat([big_frame,i], axis=1)\n",
    "    big_frame.to_csv(path + \"/\"  + \"temp.csv\")\n",
    "    big_frame = pd.read_csv(path + \"/\"  + \"temp.csv\", low_memory=False, parse_dates=['DATE'])\n",
    "    big_frame.rename(columns=data_dict, inplace=True)\n",
    "    return big_frame"
   ]
  },
  {
   "cell_type": "code",
   "execution_count": 3,
   "id": "a12157a4",
   "metadata": {},
   "outputs": [],
   "source": [
    "# Preprocessing data\n",
    "def parse_datetime_oil(crude_oil):\n",
    "    crude_oil['yy']=crude_oil.DATE.dt.year\n",
    "    crude_oil['mm']=crude_oil.DATE.dt.month\n",
    "    crude_oil['dd']=crude_oil.DATE.dt.day\n",
    "    crude_oil['Dayofweek']=crude_oil.DATE.dt.dayofweek\n",
    "    crude_oil['Dayofyear']=crude_oil.DATE.dt.dayofyear\n",
    "    crude_oil.drop(columns='DATE', inplace=True)\n",
    "    \n",
    "    # change objects to categorical data\n",
    "    df = crude_oil\n",
    "    for val, cont in df.items():\n",
    "        if pd.api.types.is_object_dtype(cont):\n",
    "            df[val] = cont.astype(\"category\").cat.as_ordered()\n",
    "    \n",
    "    crude_oil = df\n",
    "    # Turn categorical values into numbers\n",
    "    for lb, cont in crude_oil.items():\n",
    "        if pd.api.types.is_categorical_dtype(cont):\n",
    "            crude_oil[lb+\"_is_missing\"] = pd.isnull(cont)\n",
    "            crude_oil[lb] = pd.Categorical(cont).codes+1\n",
    "    return crude_oil"
   ]
  },
  {
   "cell_type": "code",
   "execution_count": 4,
   "id": "a6a3f8aa",
   "metadata": {},
   "outputs": [],
   "source": [
    "# Getting data ready\n",
    "train_data = merge_data_datetime(path=r'data', reg_exp=\"*\")\n",
    "test_data = merge_data_datetime(path=r'test', reg_exp=\"*\")\n",
    "\n",
    "train_data = parse_datetime_oil(train_data)\n",
    "test_data = parse_datetime_oil(test_data)"
   ]
  },
  {
   "cell_type": "code",
   "execution_count": 5,
   "id": "ba62eaa4",
   "metadata": {},
   "outputs": [
    {
     "name": "stdout",
     "output_type": "stream",
     "text": [
      "<class 'pandas.core.frame.DataFrame'>\n",
      "RangeIndex: 8421 entries, 0 to 8420\n",
      "Data columns (total 23 columns):\n",
      " #   Column                                                    Non-Null Count  Dtype\n",
      "---  ------                                                    --------------  -----\n",
      " 0   percent Change from a year ago                            8421 non-null   int16\n",
      " 1   Change dollars per barrel                                 8421 non-null   int16\n",
      " 2   Change from year ago dollars per barrel                   8421 non-null   int16\n",
      " 3   Compound annual rate of change                            8421 non-null   int16\n",
      " 4   percent change                                            8421 non-null   int16\n",
      " 5   Dollars per barrel                                        8421 non-null   int16\n",
      " 6   Continuously Coumpounded rate of change                   8421 non-null   int16\n",
      " 7   Index                                                     8421 non-null   int16\n",
      " 8   Continuously Compounded annual rate of change             8421 non-null   int16\n",
      " 9   yy                                                        8421 non-null   int64\n",
      " 10  mm                                                        8421 non-null   int64\n",
      " 11  dd                                                        8421 non-null   int64\n",
      " 12  Dayofweek                                                 8421 non-null   int64\n",
      " 13  Dayofyear                                                 8421 non-null   int64\n",
      " 14  percent Change from a year ago_is_missing                 8421 non-null   bool \n",
      " 15  Change dollars per barrel_is_missing                      8421 non-null   bool \n",
      " 16  Change from year ago dollars per barrel_is_missing        8421 non-null   bool \n",
      " 17  Compound annual rate of change_is_missing                 8421 non-null   bool \n",
      " 18  percent change_is_missing                                 8421 non-null   bool \n",
      " 19  Dollars per barrel_is_missing                             8421 non-null   bool \n",
      " 20  Continuously Coumpounded rate of change_is_missing        8421 non-null   bool \n",
      " 21  Index_is_missing                                          8421 non-null   bool \n",
      " 22  Continuously Compounded annual rate of change_is_missing  8421 non-null   bool \n",
      "dtypes: bool(9), int16(9), int64(5)\n",
      "memory usage: 551.1 KB\n"
     ]
    }
   ],
   "source": [
    "train_data.info()"
   ]
  },
  {
   "cell_type": "code",
   "execution_count": 6,
   "id": "06fb7ed3",
   "metadata": {},
   "outputs": [
    {
     "name": "stdout",
     "output_type": "stream",
     "text": [
      "<class 'pandas.core.frame.DataFrame'>\n",
      "RangeIndex: 561 entries, 0 to 560\n",
      "Data columns (total 23 columns):\n",
      " #   Column                                                    Non-Null Count  Dtype\n",
      "---  ------                                                    --------------  -----\n",
      " 0   Change from year ago dollars per barrel                   561 non-null    int16\n",
      " 1   Change dollars per barrel                                 561 non-null    int16\n",
      " 2   Compound annual rate of change                            561 non-null    int16\n",
      " 3   percent change                                            561 non-null    int16\n",
      " 4   Index                                                     561 non-null    int16\n",
      " 5   Continuously Compounded annual rate of change             561 non-null    int16\n",
      " 6   Continuously Coumpounded rate of change                   561 non-null    int16\n",
      " 7   percent Change from a year ago                            561 non-null    int16\n",
      " 8   Dollars per barrel                                        561 non-null    int16\n",
      " 9   yy                                                        561 non-null    int64\n",
      " 10  mm                                                        561 non-null    int64\n",
      " 11  dd                                                        561 non-null    int64\n",
      " 12  Dayofweek                                                 561 non-null    int64\n",
      " 13  Dayofyear                                                 561 non-null    int64\n",
      " 14  Change from year ago dollars per barrel_is_missing        561 non-null    bool \n",
      " 15  Change dollars per barrel_is_missing                      561 non-null    bool \n",
      " 16  Compound annual rate of change_is_missing                 561 non-null    bool \n",
      " 17  percent change_is_missing                                 561 non-null    bool \n",
      " 18  Index_is_missing                                          561 non-null    bool \n",
      " 19  Continuously Compounded annual rate of change_is_missing  561 non-null    bool \n",
      " 20  Continuously Coumpounded rate of change_is_missing        561 non-null    bool \n",
      " 21  percent Change from a year ago_is_missing                 561 non-null    bool \n",
      " 22  Dollars per barrel_is_missing                             561 non-null    bool \n",
      "dtypes: bool(9), int16(9), int64(5)\n",
      "memory usage: 36.8 KB\n"
     ]
    }
   ],
   "source": [
    "test_data.info()"
   ]
  },
  {
   "cell_type": "code",
   "execution_count": 7,
   "id": "1fca5eba",
   "metadata": {},
   "outputs": [],
   "source": [
    "# Splitting data into x and y\n",
    "X_train, y_train = train_data.drop(columns='Dollars per barrel'), train_data['Dollars per barrel']\n",
    "X_valid, y_valid = test_data.drop(columns='Dollars per barrel'), test_data['Dollars per barrel']"
   ]
  },
  {
   "cell_type": "code",
   "execution_count": 8,
   "id": "e75c2641",
   "metadata": {},
   "outputs": [
    {
     "data": {
      "text/plain": [
       "((8421, 22), (8421,), (561, 22), (561,))"
      ]
     },
     "execution_count": 8,
     "metadata": {},
     "output_type": "execute_result"
    }
   ],
   "source": [
    "X_train.shape, y_train.shape, X_valid.shape, y_valid.shape"
   ]
  },
  {
   "cell_type": "code",
   "execution_count": 9,
   "id": "b9199908",
   "metadata": {},
   "outputs": [],
   "source": [
    "# Create evaluation function (the competition uses Root Mean Square Log Error)\n",
    "from sklearn.metrics import mean_squared_log_error, mean_absolute_error\n",
    "\n",
    "def rmsle(y_test, y_preds):\n",
    "    return np.sqrt(mean_squared_log_error(y_test, y_preds))\n",
    "\n",
    "# Create function to evaluate our model\n",
    "def show_scores(model):\n",
    "    train_preds = model.predict(X_train)\n",
    "    val_preds = model.predict(X_valid)\n",
    "    scores = {\"Training MAE\": mean_absolute_error(y_train, train_preds),\n",
    "              \"Valid MAE\": mean_absolute_error(y_valid, val_preds),\n",
    "              \"Training RMSLE\": rmsle(y_train, train_preds),\n",
    "              \"Valid RMSLE\": rmsle(y_valid, val_preds),\n",
    "              \"Training R^2\": model.score(X_train, y_train),\n",
    "              \"Valid R^2\": model.score(X_valid, y_valid)}\n",
    "    return scores"
   ]
  },
  {
   "cell_type": "code",
   "execution_count": 40,
   "id": "cd34ef4b",
   "metadata": {},
   "outputs": [
    {
     "name": "stdout",
     "output_type": "stream",
     "text": [
      "CPU times: user 4 µs, sys: 0 ns, total: 4 µs\n",
      "Wall time: 7.15 µs\n"
     ]
    },
    {
     "data": {
      "text/plain": [
       "RandomForestRegressor(n_jobs=-1)"
      ]
     },
     "execution_count": 40,
     "metadata": {},
     "output_type": "execute_result"
    }
   ],
   "source": [
    "# Training model on Random Forest Regressor\n",
    "\n",
    "from sklearn.ensemble import RandomForestRegressor\n",
    "%time\n",
    "model = RandomForestRegressor(n_jobs=-1)\n",
    "model.fit(X_train, y_train)\n"
   ]
  },
  {
   "cell_type": "code",
   "execution_count": 41,
   "id": "b60f80aa",
   "metadata": {},
   "outputs": [
    {
     "data": {
      "text/plain": [
       "-71.31231413470813"
      ]
     },
     "execution_count": 41,
     "metadata": {},
     "output_type": "execute_result"
    }
   ],
   "source": [
    "model.score(X_valid, y_valid)"
   ]
  },
  {
   "cell_type": "code",
   "execution_count": 42,
   "id": "d89e7a85",
   "metadata": {},
   "outputs": [
    {
     "data": {
      "text/plain": [
       "{'Training MAE': 0.9641040256501567,\n",
       " 'Valid MAE': 1289.1587165775402,\n",
       " 'Training RMSLE': 0.08080279763940797,\n",
       " 'Valid RMSLE': 2.4550195379599318,\n",
       " 'Training R^2': 0.9995562252273448,\n",
       " 'Valid R^2': -71.31231413470813}"
      ]
     },
     "execution_count": 42,
     "metadata": {},
     "output_type": "execute_result"
    }
   ],
   "source": [
    "show_scores(model)"
   ]
  },
  {
   "cell_type": "code",
   "execution_count": 34,
   "id": "1adb29d8",
   "metadata": {},
   "outputs": [
    {
     "name": "stdout",
     "output_type": "stream",
     "text": [
      "CPU times: user 3 µs, sys: 0 ns, total: 3 µs\n",
      "Wall time: 5.72 µs\n",
      "Fitting 5 folds for each of 2000 candidates, totalling 10000 fits\n"
     ]
    },
    {
     "data": {
      "text/plain": [
       "RandomizedSearchCV(cv=5, estimator=RandomForestRegressor(), n_iter=2000,\n",
       "                   param_distributions={'max_depth': [None, 3, 5, 10],\n",
       "                                        'max_features': [0.5, 1, 'sqrt',\n",
       "                                                         'auto'],\n",
       "                                        'max_samples': [100, 500, 1000, 2000,\n",
       "                                                        3000, 4000, 5000,\n",
       "                                                        6000],\n",
       "                                        'min_samples_leaf': array([ 1,  3,  5,  7,  9, 11, 13, 15, 17, 19]),\n",
       "                                        'min_samples_split': array([ 2,  4,  6,  8, 10, 12, 14, 16, 18]),\n",
       "                                        'n_estimators': array([10, 20, 30, 40, 50, 60, 70, 80, 90])},\n",
       "                   verbose=True)"
      ]
     },
     "execution_count": 34,
     "metadata": {},
     "output_type": "execute_result"
    }
   ],
   "source": [
    "%time\n",
    "from sklearn.model_selection import RandomizedSearchCV\n",
    "\n",
    "# Different RandomForestClassifier hyperparameters\n",
    "rf_grid = {\"n_estimators\": np.arange(10, 100, 10),\n",
    "           \"max_depth\": [None, 3, 5, 10],\n",
    "           \"min_samples_split\": np.arange(2, 20, 2),\n",
    "           \"min_samples_leaf\": np.arange(1, 20, 2),\n",
    "           \"max_features\": [0.5, 1, \"sqrt\", \"auto\"],\n",
    "           \"max_samples\": [100, 500, 1000, 2000, 3000, 4000, 5000, 6000]}\n",
    "\n",
    "rs_model = RandomizedSearchCV(RandomForestRegressor(),\n",
    "                              param_distributions=rf_grid,\n",
    "                              n_iter=2000,\n",
    "                              cv=5,\n",
    "                              verbose=True)\n",
    "\n",
    "rs_model.fit(X_train, y_train)"
   ]
  },
  {
   "cell_type": "code",
   "execution_count": 35,
   "id": "0be3cd51",
   "metadata": {},
   "outputs": [
    {
     "data": {
      "text/plain": [
       "{'n_estimators': 20,\n",
       " 'min_samples_split': 12,\n",
       " 'min_samples_leaf': 1,\n",
       " 'max_samples': 4000,\n",
       " 'max_features': 'auto',\n",
       " 'max_depth': 10}"
      ]
     },
     "execution_count": 35,
     "metadata": {},
     "output_type": "execute_result"
    }
   ],
   "source": [
    "rs_model.best_params_"
   ]
  },
  {
   "cell_type": "code",
   "execution_count": 36,
   "id": "83f05040",
   "metadata": {},
   "outputs": [
    {
     "data": {
      "text/plain": [
       "{'Training MAE': 3.214629320017231,\n",
       " 'Valid MAE': 1289.0907048601646,\n",
       " 'Training RMSLE': 0.10609049095130219,\n",
       " 'Valid RMSLE': 2.4549821264987357,\n",
       " 'Training R^2': 0.9979967181269015,\n",
       " 'Valid R^2': -71.30560161764555}"
      ]
     },
     "execution_count": 36,
     "metadata": {},
     "output_type": "execute_result"
    }
   ],
   "source": [
    "show_scores(rs_model)"
   ]
  },
  {
   "cell_type": "code",
   "execution_count": 61,
   "id": "b81f8867",
   "metadata": {},
   "outputs": [
    {
     "data": {
      "text/plain": [
       "RandomForestRegressor(max_depth=10, max_samples=4000, min_samples_split=12,\n",
       "                      n_estimators=20)"
      ]
     },
     "execution_count": 61,
     "metadata": {},
     "output_type": "execute_result"
    }
   ],
   "source": [
    "save_regressor_model = RandomForestRegressor(n_estimators=20,\n",
    "                                             min_samples_split= 12,\n",
    "                                             min_samples_leaf= 1,\n",
    "                                             max_samples= 4000,\n",
    "                                             max_features= 'auto',\n",
    "                                             max_depth= 10)\n",
    "save_regressor_model.fit(all_train_x, all_train_y)"
   ]
  },
  {
   "cell_type": "code",
   "execution_count": 47,
   "id": "0d71af68",
   "metadata": {},
   "outputs": [
    {
     "data": {
      "text/plain": [
       "8982"
      ]
     },
     "execution_count": 47,
     "metadata": {},
     "output_type": "execute_result"
    }
   ],
   "source": [
    "len(X_train.append(X_valid))"
   ]
  },
  {
   "cell_type": "code",
   "execution_count": 57,
   "id": "4a79605d",
   "metadata": {},
   "outputs": [],
   "source": [
    "all_train_x = X_train.append(X_valid, ignore_index=True)"
   ]
  },
  {
   "cell_type": "code",
   "execution_count": 58,
   "id": "e826cbde",
   "metadata": {},
   "outputs": [],
   "source": [
    "all_train_y = y_train.append(y_valid, ignore_index=True)"
   ]
  },
  {
   "cell_type": "code",
   "execution_count": 59,
   "id": "9c8e3eea",
   "metadata": {},
   "outputs": [
    {
     "data": {
      "text/plain": [
       "(8982, 8982)"
      ]
     },
     "execution_count": 59,
     "metadata": {},
     "output_type": "execute_result"
    }
   ],
   "source": [
    "len(all_train_x), len(all_train_y)"
   ]
  },
  {
   "cell_type": "code",
   "execution_count": 64,
   "id": "b0b4b78d",
   "metadata": {},
   "outputs": [],
   "source": [
    "filename = \"random_forest_regressor_model.pkl\"\n",
    "pickle.dump(save_regressor_model, open(filename, 'wb'))"
   ]
  },
  {
   "cell_type": "code",
   "execution_count": 66,
   "id": "25c5f503",
   "metadata": {},
   "outputs": [
    {
     "data": {
      "text/plain": [
       "{'Training MAE': 2.7323624076169026,\n",
       " 'Valid MAE': 152.17002442520482,\n",
       " 'Training RMSLE': 0.09878548721816731,\n",
       " 'Valid RMSLE': 1.3776955385788041,\n",
       " 'Training R^2': 0.9980888529867834,\n",
       " 'Valid R^2': -0.4329336217851254}"
      ]
     },
     "execution_count": 66,
     "metadata": {},
     "output_type": "execute_result"
    }
   ],
   "source": [
    "show_scores(save_regressor_model)"
   ]
  },
  {
   "cell_type": "code",
   "execution_count": null,
   "id": "222aa669",
   "metadata": {},
   "outputs": [],
   "source": []
  }
 ],
 "metadata": {
  "kernelspec": {
   "display_name": "Python 3",
   "language": "python",
   "name": "python3"
  },
  "language_info": {
   "codemirror_mode": {
    "name": "ipython",
    "version": 3
   },
   "file_extension": ".py",
   "mimetype": "text/x-python",
   "name": "python",
   "nbconvert_exporter": "python",
   "pygments_lexer": "ipython3",
   "version": "3.9.6"
  }
 },
 "nbformat": 4,
 "nbformat_minor": 5
}
